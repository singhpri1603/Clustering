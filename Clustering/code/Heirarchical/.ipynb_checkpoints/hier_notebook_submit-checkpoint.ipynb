{
 "metadata": {
  "name": "",
  "signature": "sha256:db5eb2c93d0e2ad8cc6a2aabfe6d8a6768b3babe1cc64992a7bb7418013f79a4"
 },
 "nbformat": 3,
 "nbformat_minor": 0,
 "worksheets": [
  {
   "cells": [
    {
     "cell_type": "code",
     "collapsed": false,
     "input": [
      "import os\n",
      "cwd = os.getcwd()\n",
      "print cwd\n",
      "\n",
      "f = open('new_dataset_2.txt', 'r')\n",
      "x = f.readlines()\n",
      "\n",
      "print len(x)\n",
      "\n",
      "total_set=len(x)\n",
      "to_remain=2\n",
      "\n",
      "#jackard .23"
     ],
     "language": "python",
     "metadata": {},
     "outputs": [
      {
       "output_type": "stream",
       "stream": "stdout",
       "text": [
        "C:\\fall17\\cse 640\\proj2\n",
        "6\n"
       ]
      }
     ],
     "prompt_number": 1
    },
    {
     "cell_type": "code",
     "collapsed": false,
     "input": [
      "import numpy as np\n",
      "inner_array=[]\n",
      "inner_id=[]\n",
      "inner_label=[]\n",
      "\n",
      "test=x[0].strip()\n",
      "test1=x[1].strip()\n",
      "print test\n",
      "print test1\n",
      "print test.split('\\t')\n",
      "print test1.split('\\t')\n",
      "\n"
     ],
     "language": "python",
     "metadata": {},
     "outputs": [
      {
       "output_type": "stream",
       "stream": "stdout",
       "text": [
        "1\t1\t0.88845\t0.96682\t0.93679\t0.81723\t0.88242\n",
        "2\t1\t0.86257\t0.85462\t0.86419\t0.84451\t0.86159\n",
        "['1', '1', '0.88845', '0.96682', '0.93679', '0.81723', '0.88242']\n",
        "['2', '1', '0.86257', '0.85462', '0.86419', '0.84451', '0.86159']\n"
       ]
      }
     ],
     "prompt_number": 2
    },
    {
     "cell_type": "code",
     "collapsed": false,
     "input": [
      "for i in range(0,len(x)):\n",
      "    temp_row=x[i].strip().split('\\t')\n",
      "    inner_id.append(temp_row[0])\n",
      "    inner_label.append(temp_row[1])\n",
      "    inner_array.append(temp_row[2:])\n",
      "    \n",
      "print \"step done\""
     ],
     "language": "python",
     "metadata": {},
     "outputs": [
      {
       "output_type": "stream",
       "stream": "stdout",
       "text": [
        "step done\n"
       ]
      }
     ],
     "prompt_number": 3
    },
    {
     "cell_type": "code",
     "collapsed": false,
     "input": [
      "print len(inner_id)"
     ],
     "language": "python",
     "metadata": {},
     "outputs": [
      {
       "output_type": "stream",
       "stream": "stdout",
       "text": [
        "6\n"
       ]
      }
     ],
     "prompt_number": 4
    },
    {
     "cell_type": "code",
     "collapsed": false,
     "input": [
      "print inner_array[0]"
     ],
     "language": "python",
     "metadata": {},
     "outputs": [
      {
       "output_type": "stream",
       "stream": "stdout",
       "text": [
        "['0.88845', '0.96682', '0.93679', '0.81723', '0.88242']\n"
       ]
      }
     ],
     "prompt_number": 5
    },
    {
     "cell_type": "code",
     "collapsed": false,
     "input": [
      "print inner_array[len(inner_array)-1]"
     ],
     "language": "python",
     "metadata": {},
     "outputs": [
      {
       "output_type": "stream",
       "stream": "stdout",
       "text": [
        "['-0.96824', '-0.82282', '-0.89646', '-1.0309', '-0.97505']\n"
       ]
      }
     ],
     "prompt_number": 6
    },
    {
     "cell_type": "code",
     "collapsed": false,
     "input": [
      "numpy_array=np.asarray(inner_array,dtype='float')"
     ],
     "language": "python",
     "metadata": {},
     "outputs": [],
     "prompt_number": 7
    },
    {
     "cell_type": "code",
     "collapsed": false,
     "input": [
      "numpy_array"
     ],
     "language": "python",
     "metadata": {},
     "outputs": [
      {
       "metadata": {},
       "output_type": "pyout",
       "prompt_number": 8,
       "text": [
        "array([[ 0.88845,  0.96682,  0.93679,  0.81723,  0.88242],\n",
        "       [ 0.86257,  0.85462,  0.86419,  0.84451,  0.86159],\n",
        "       [ 0.9402 ,  0.91072,  0.93074,  0.93317,  0.94034],\n",
        "       [-0.57792, -1.008  , -0.81377, -0.3012 , -0.55201],\n",
        "       [-1.1451 , -0.90137, -1.0215 , -1.2628 , -1.1573 ],\n",
        "       [-0.96824, -0.82282, -0.89646, -1.0309 , -0.97505]])"
       ]
      }
     ],
     "prompt_number": 8
    },
    {
     "cell_type": "code",
     "collapsed": false,
     "input": [
      "#key is the matrix row-column and value is the gene id numbers list in a cluster\n",
      "my_dict ={}\n",
      "for i in range(0,len(inner_id)):\n",
      "    my_dict[i]=[inner_id[i]]\n"
     ],
     "language": "python",
     "metadata": {},
     "outputs": [],
     "prompt_number": 9
    },
    {
     "cell_type": "code",
     "collapsed": false,
     "input": [
      "my_dict[0]"
     ],
     "language": "python",
     "metadata": {},
     "outputs": [
      {
       "metadata": {},
       "output_type": "pyout",
       "prompt_number": 10,
       "text": [
        "['1']"
       ]
      }
     ],
     "prompt_number": 10
    },
    {
     "cell_type": "code",
     "collapsed": false,
     "input": [
      "matrix_struct=np.zeros((len(numpy_array),len(numpy_array)))\n",
      "print matrix_struct\n"
     ],
     "language": "python",
     "metadata": {},
     "outputs": [
      {
       "output_type": "stream",
       "stream": "stdout",
       "text": [
        "[[ 0.  0.  0.  0.  0.  0.]\n",
        " [ 0.  0.  0.  0.  0.  0.]\n",
        " [ 0.  0.  0.  0.  0.  0.]\n",
        " [ 0.  0.  0.  0.  0.  0.]\n",
        " [ 0.  0.  0.  0.  0.  0.]\n",
        " [ 0.  0.  0.  0.  0.  0.]]\n"
       ]
      }
     ],
     "prompt_number": 11
    },
    {
     "cell_type": "code",
     "collapsed": false,
     "input": [
      "for i in range(0,len(numpy_array)):\n",
      "    for j in range(i,len(numpy_array)):\n",
      "        #calculate the distance between two vectors\n",
      "        first_vector=numpy_array[i]\n",
      "        second_vector=numpy_array[j]\n",
      "        distances = (first_vector-second_vector)**2\n",
      "        distances = distances.sum(axis=-1)\n",
      "        distances = np.sqrt(distances)\n",
      "        dist=distances\n",
      "        matrix_struct[i][j]=dist\n",
      "        matrix_struct[j][i]=dist\n",
      "    "
     ],
     "language": "python",
     "metadata": {},
     "outputs": [],
     "prompt_number": 12
    },
    {
     "cell_type": "code",
     "collapsed": false,
     "input": [
      "print matrix_struct"
     ],
     "language": "python",
     "metadata": {},
     "outputs": [
      {
       "output_type": "stream",
       "stream": "stdout",
       "text": [
        "[[ 0.          0.14038327  0.15052802  3.52464047  4.4662447   4.10812536]\n",
        " [ 0.14038327  0.          0.16632705  3.41625977  4.38026697  4.01944869]\n",
        " [ 0.15052802  0.16632705  0.          3.57495003  4.5459614   4.18476449]\n",
        " [ 3.52464047  3.41625977  3.57495003  0.          1.29122632  0.95126437]\n",
        " [ 4.4662447   4.38026697  4.5459614   1.29122632  0.          0.37426894]\n",
        " [ 4.10812536  4.01944869  4.18476449  0.95126437  0.37426894  0.        ]]\n"
       ]
      }
     ],
     "prompt_number": 13
    },
    {
     "cell_type": "code",
     "collapsed": false,
     "input": [
      "maximum_val=matrix_struct.max()\n",
      "max_val_plus=maximum_val+1\n",
      "for i in range(0,len(numpy_array)):\n",
      "    matrix_struct[i][i]=maximum_val+1\n",
      "\n"
     ],
     "language": "python",
     "metadata": {},
     "outputs": [],
     "prompt_number": 14
    },
    {
     "cell_type": "code",
     "collapsed": false,
     "input": [
      "print maximum_val"
     ],
     "language": "python",
     "metadata": {},
     "outputs": [
      {
       "output_type": "stream",
       "stream": "stdout",
       "text": [
        "4.54596140395\n"
       ]
      }
     ],
     "prompt_number": 15
    },
    {
     "cell_type": "code",
     "collapsed": false,
     "input": [
      "#print matrix_struct"
     ],
     "language": "python",
     "metadata": {},
     "outputs": [],
     "prompt_number": 16
    },
    {
     "cell_type": "code",
     "collapsed": false,
     "input": [
      "get_min_from_all=np.where(matrix_struct == np.min(matrix_struct))\n",
      "print get_min_from_all\n",
      "print get_min_from_all[0]"
     ],
     "language": "python",
     "metadata": {},
     "outputs": [
      {
       "output_type": "stream",
       "stream": "stdout",
       "text": [
        "(array([0, 1], dtype=int64), array([1, 0], dtype=int64))\n",
        "[0 1]\n"
       ]
      }
     ],
     "prompt_number": 17
    },
    {
     "cell_type": "code",
     "collapsed": false,
     "input": [
      "# matrix_struct[178,210]\n",
      "# matrix_struct[178,210]"
     ],
     "language": "python",
     "metadata": {},
     "outputs": [],
     "prompt_number": 18
    },
    {
     "cell_type": "code",
     "collapsed": false,
     "input": [
      "# print my_dict[178]\n",
      "# print my_dict[210]"
     ],
     "language": "python",
     "metadata": {},
     "outputs": [],
     "prompt_number": 19
    },
    {
     "cell_type": "code",
     "collapsed": false,
     "input": [
      "active_index_of_clusters={}\n",
      "for i in my_dict.keys():\n",
      "    active_index_of_clusters[i]=1\n",
      "#print active_index_of_clusters"
     ],
     "language": "python",
     "metadata": {},
     "outputs": [],
     "prompt_number": 20
    },
    {
     "cell_type": "code",
     "collapsed": false,
     "input": [
      "while(len(active_index_of_clusters)>to_remain):\n",
      "    #print np.min(matrix_struct)\n",
      "    get_min_from_all=np.where(matrix_struct == np.min(matrix_struct))\n",
      "    #print get_min_from_all\n",
      "    #########indexes to be merger=get_min_from_all[0][0]\n",
      "    ############3#indexes to be merger=get_min_from_all[0][1]\n",
      "    \n",
      "    index_into_to_be_merged_a=get_min_from_all[0][0]\n",
      "    index_into_to_be_merged_b=get_min_from_all[1][0]\n",
      "    \n",
      "    index_into_to_be_merged=min(index_into_to_be_merged_a,index_into_to_be_merged_b)\n",
      "    index_not_into_to_be_merged=max(index_into_to_be_merged_a,index_into_to_be_merged_b)\n",
      "    #print \"into\"+str(index_into_to_be_merged)\n",
      "    #print \"not into\"+str(index_not_into_to_be_merged)\n",
      "    ##########first combine the cluster\n",
      "    mergedlist = my_dict[index_into_to_be_merged_a]+my_dict[index_into_to_be_merged_b]\n",
      "    #print mergedlist\n",
      "    my_dict[index_into_to_be_merged]=mergedlist\n",
      "    my_dict.pop(index_not_into_to_be_merged, None)\n",
      "    #print my_dict[index_into_to_be_merged]\n",
      "    \n",
      "    \n",
      "    ################3remove active_index_of_clusters cluster key\n",
      "    active_index_of_clusters.pop(index_not_into_to_be_merged, None)\n",
      "    \n",
      "    \n",
      "    ###############merge matrix\n",
      "    for i in active_index_of_clusters.keys():\n",
      "        if index_into_to_be_merged==i:\n",
      "            ignore=1\n",
      "        else:\n",
      "            ###########3find new mininmum distance for combined cluster\n",
      "            new_min_dist=min(matrix_struct[i][index_into_to_be_merged],matrix_struct[i][index_not_into_to_be_merged])\n",
      "            matrix_struct[index_into_to_be_merged][i]=new_min_dist\n",
      "            matrix_struct[i][index_into_to_be_merged]=new_min_dist\n",
      "    \n",
      "#     matrix_struct[index_into_to_be_merged][5]=0.017\n",
      "#     matrix_struct[5][index_into_to_be_merged]=0.017\n",
      "    \n",
      "    ############mark index_not_into_to_be_merged as with maximum values\n",
      "    for i in range(0,len(numpy_array)):\n",
      "        matrix_struct[i][index_not_into_to_be_merged]=max_val_plus\n",
      "        matrix_struct[index_not_into_to_be_merged][i]=max_val_plus\n",
      "    \n",
      "    \n",
      "    \n",
      "    #break\n",
      "    hey=1"
     ],
     "language": "python",
     "metadata": {},
     "outputs": [],
     "prompt_number": 21
    },
    {
     "cell_type": "code",
     "collapsed": false,
     "input": [
      "# print matrix_struct[21][20:30]"
     ],
     "language": "python",
     "metadata": {},
     "outputs": [],
     "prompt_number": 22
    },
    {
     "cell_type": "code",
     "collapsed": false,
     "input": [
      "print len(active_index_of_clusters)"
     ],
     "language": "python",
     "metadata": {},
     "outputs": [
      {
       "output_type": "stream",
       "stream": "stdout",
       "text": [
        "2\n"
       ]
      }
     ],
     "prompt_number": 23
    },
    {
     "cell_type": "code",
     "collapsed": false,
     "input": [
      "print my_dict"
     ],
     "language": "python",
     "metadata": {},
     "outputs": [
      {
       "output_type": "stream",
       "stream": "stdout",
       "text": [
        "{0: ['1', '2', '3'], 3: ['4', '5', '6']}\n"
       ]
      }
     ],
     "prompt_number": 24
    },
    {
     "cell_type": "code",
     "collapsed": false,
     "input": [
      "import pprint"
     ],
     "language": "python",
     "metadata": {},
     "outputs": [],
     "prompt_number": 25
    },
    {
     "cell_type": "heading",
     "level": 2,
     "metadata": {},
     "source": [
      "Clusters Printing"
     ]
    },
    {
     "cell_type": "code",
     "collapsed": false,
     "input": [
      "pprint.pprint(my_dict)"
     ],
     "language": "python",
     "metadata": {},
     "outputs": [
      {
       "output_type": "stream",
       "stream": "stdout",
       "text": [
        "{0: ['1', '2', '3'], 3: ['4', '5', '6']}\n"
       ]
      }
     ],
     "prompt_number": 26
    },
    {
     "cell_type": "code",
     "collapsed": false,
     "input": [
      "sum=0\n",
      "for i in my_dict.keys():\n",
      "    sum=sum+len(my_dict[i])\n",
      "print sum    "
     ],
     "language": "python",
     "metadata": {},
     "outputs": [
      {
       "output_type": "stream",
       "stream": "stdout",
       "text": [
        "6\n"
       ]
      }
     ],
     "prompt_number": 27
    },
    {
     "cell_type": "code",
     "collapsed": false,
     "input": [
      "output_clusters=np.zeros(total_set,dtype='int')\n",
      "#print output_clusters\n",
      "cluster_id=0\n",
      "for i in my_dict.keys():\n",
      "    cluster_id=cluster_id+1\n",
      "    for k in my_dict[i]:\n",
      "        #print k\n",
      "        output_clusters[int(k)-1]=cluster_id\n",
      "print output_clusters"
     ],
     "language": "python",
     "metadata": {},
     "outputs": [
      {
       "output_type": "stream",
       "stream": "stdout",
       "text": [
        "[1 1 1 2 2 2]\n"
       ]
      }
     ],
     "prompt_number": 28
    },
    {
     "cell_type": "code",
     "collapsed": false,
     "input": [
      "for i in my_dict.keys():\n",
      "    print len(my_dict[i])"
     ],
     "language": "python",
     "metadata": {},
     "outputs": [
      {
       "output_type": "stream",
       "stream": "stdout",
       "text": [
        "3\n",
        "3\n"
       ]
      }
     ],
     "prompt_number": 29
    },
    {
     "cell_type": "code",
     "collapsed": false,
     "input": [
      "print to_remain\n",
      "#print inner_array\n",
      "inner_array_np=np.array(inner_array,dtype='float32')\n",
      "print inner_array_np"
     ],
     "language": "python",
     "metadata": {},
     "outputs": [
      {
       "output_type": "stream",
       "stream": "stdout",
       "text": [
        "2\n",
        "[[ 0.88845003  0.96682     0.93678999  0.81722999  0.88242   ]\n",
        " [ 0.86256999  0.85461998  0.86418998  0.84451002  0.86159003]\n",
        " [ 0.94019997  0.91071999  0.93074     0.93317002  0.94033998]\n",
        " [-0.57792002 -1.00800002 -0.81377    -0.3012     -0.55201   ]\n",
        " [-1.1451     -0.90136999 -1.02149999 -1.26279998 -1.1573    ]\n",
        " [-0.96824002 -0.82282001 -0.89646    -1.0309     -0.97504997]]\n"
       ]
      }
     ],
     "prompt_number": 30
    },
    {
     "cell_type": "heading",
     "level": 2,
     "metadata": {},
     "source": [
      "PCA VISUALIZATION"
     ]
    },
    {
     "cell_type": "code",
     "collapsed": false,
     "input": [
      "import pandas as pd\n",
      "from scipy.spatial import distance\n",
      "from sklearn.decomposition import PCA\n",
      "\n",
      "import matplotlib.pyplot as plt\n",
      "from matplotlib.pyplot import cm\n",
      "\n",
      "data = inner_array_np\n",
      "\n",
      "pca = PCA(n_components=2)\n",
      "pca.fit(data)\n",
      "a = pca.transform(data)\n",
      "colors = cm.rainbow(np.linspace(0,1,to_remain))\n",
      "plt.figure(1)\n",
      "for l in range(1,to_remain+1):\n",
      "    output_clustersl = np.argwhere(output_clusters == l)\n",
      "#     print output_clustersl\n",
      "    #print \"done\"\n",
      "    newplot = a[output_clustersl[:,0], :]\n",
      "#     print newplot\n",
      "#     print colors\n",
      "    plt.scatter(newplot[:,0],newplot[:,1], color=colors[l-1])\n",
      "    #plt.plot(newplot, color=colors[l])\n",
      "\n",
      "# clusterl = np.argwhere(cluster == 0)\n",
      "# newplot = a[clusterl[:,0], :]\n",
      "#plt.scatter(newplot[:,0],newplot[:,1], color=\"Black\")\n",
      "    \n",
      "plt.show()"
     ],
     "language": "python",
     "metadata": {},
     "outputs": [
      {
       "output_type": "stream",
       "stream": "stderr",
       "text": [
        "C:\\Users\\Sahil\\AppData\\Local\\Enthought\\Canopy\\User\\lib\\site-packages\\matplotlib\\collections.py:590: FutureWarning: elementwise comparison failed; returning scalar instead, but in the future will perform elementwise comparison\n",
        "  if self._edgecolors == str('face'):\n"
       ]
      },
      {
       "metadata": {},
       "output_type": "display_data",
       "png": "[encoded data removed]",
       "text": [
        "<matplotlib.figure.Figure at 0xa471550>"
       ]
      }
     ],
     "prompt_number": 31
    },
    {
     "cell_type": "code",
     "collapsed": false,
     "input": [
      "print inner_label\n",
      "print output_clusters\n",
      "\n",
      "inner_label_np=np.array(inner_label,dtype='int')\n",
      "print inner_label_np"
     ],
     "language": "python",
     "metadata": {},
     "outputs": [
      {
       "output_type": "stream",
       "stream": "stdout",
       "text": [
        "['1', '1', '1', '2', '2', '2']\n",
        "[1 1 1 2 2 2]\n",
        "[1 1 1 2 2 2]\n"
       ]
      }
     ],
     "prompt_number": 32
    },
    {
     "cell_type": "code",
     "collapsed": false,
     "input": [
      "from sklearn.metrics import jaccard_similarity_score\n",
      "y_pred = output_clusters\n",
      "y_true = inner_label_np\n",
      "jaccard_similarity_score(y_true, y_pred)"
     ],
     "language": "python",
     "metadata": {},
     "outputs": [
      {
       "metadata": {},
       "output_type": "pyout",
       "prompt_number": 33,
       "text": [
        "1.0"
       ]
      }
     ],
     "prompt_number": 33
    },
    {
     "cell_type": "code",
     "collapsed": false,
     "input": [
      "# from sklearn.metrics import jaccard_similarity_score\n",
      "# y_pred = [1,1,2,2]\n",
      "# y_true = [2,2,1,1]\n",
      "# jaccard_similarity_score(y_true, y_pred)"
     ],
     "language": "python",
     "metadata": {},
     "outputs": [],
     "prompt_number": 34
    },
    {
     "cell_type": "code",
     "collapsed": false,
     "input": [
      "from sklearn.metrics.cluster import adjusted_rand_score\n",
      "adjusted_rand_score(y_pred, y_true)"
     ],
     "language": "python",
     "metadata": {},
     "outputs": [
      {
       "metadata": {},
       "output_type": "pyout",
       "prompt_number": 35,
       "text": [
        "1.0"
       ]
      }
     ],
     "prompt_number": 35
    },
    {
     "cell_type": "code",
     "collapsed": false,
     "input": [
      "## compute matrix"
     ],
     "language": "python",
     "metadata": {},
     "outputs": [],
     "prompt_number": 36
    },
    {
     "cell_type": "code",
     "collapsed": false,
     "input": [
      "print y_pred"
     ],
     "language": "python",
     "metadata": {},
     "outputs": [
      {
       "output_type": "stream",
       "stream": "stdout",
       "text": [
        "[1 1 1 2 2 2]\n"
       ]
      }
     ],
     "prompt_number": 37
    },
    {
     "cell_type": "code",
     "collapsed": false,
     "input": [
      "length_of_mat=len(y_pred)\n",
      "print length_of_mat"
     ],
     "language": "python",
     "metadata": {},
     "outputs": [
      {
       "output_type": "stream",
       "stream": "stdout",
       "text": [
        "6\n"
       ]
      }
     ],
     "prompt_number": 38
    },
    {
     "cell_type": "code",
     "collapsed": false,
     "input": [],
     "language": "python",
     "metadata": {},
     "outputs": [],
     "prompt_number": 38
    },
    {
     "cell_type": "code",
     "collapsed": false,
     "input": [
      "np.unique(y_pred)"
     ],
     "language": "python",
     "metadata": {},
     "outputs": [
      {
       "metadata": {},
       "output_type": "pyout",
       "prompt_number": 39,
       "text": [
        "array([1, 2])"
       ]
      }
     ],
     "prompt_number": 39
    },
    {
     "cell_type": "code",
     "collapsed": false,
     "input": [
      "np.argwhere(y_pred==2)"
     ],
     "language": "python",
     "metadata": {},
     "outputs": [
      {
       "metadata": {},
       "output_type": "pyout",
       "prompt_number": 40,
       "text": [
        "array([[3],\n",
        "       [4],\n",
        "       [5]], dtype=int64)"
       ]
      }
     ],
     "prompt_number": 40
    },
    {
     "cell_type": "heading",
     "level": 3,
     "metadata": {},
     "source": [
      "Jaccard and Rand coefficients"
     ]
    },
    {
     "cell_type": "code",
     "collapsed": false,
     "input": [
      "def get_matrix(y_pred):\n",
      "    length_of_mat=len(y_pred)\n",
      "    mat=np.zeros([length_of_mat,length_of_mat],dtype='int')\n",
      "    #print truth_mat\n",
      "    for i in np.unique(y_pred):\n",
      "        #print i\n",
      "        occurances=np.argwhere(y_pred==i)\n",
      "     #   print occurances\n",
      "        for k in range(0,len(occurances)):\n",
      "            for m in range(k,len(occurances)):\n",
      "                #print str(k)+\" \"+str(m)\n",
      "                #print str(occurances[k][0])+\" : \"+str(occurances[m][0])\n",
      "                mat[occurances[k][0]][occurances[m][0]]=1\n",
      "                mat[occurances[m][0]][occurances[k][0]]=1\n",
      "    return mat\n",
      "\n",
      "\n",
      "### predicted and true labels\n",
      "pred_mat=get_matrix(y_pred)\n",
      "truth_mat=get_matrix(y_true)\n",
      "\n",
      "\n",
      "## matrix count for m00 m11 m01\n",
      "m00=0\n",
      "m01=0\n",
      "m11=0\n",
      "print pred_mat.shape[0]\n",
      "for i in range(0,pred_mat.shape[0]):\n",
      "    for j in range(0,pred_mat.shape[0]):\n",
      "        if(pred_mat[i][j]==truth_mat[i][j] and pred_mat[i][j]==1):\n",
      "            m11=m11+1\n",
      "        if(pred_mat[i][j]==truth_mat[i][j] and pred_mat[i][j]==0):\n",
      "            m00=m00+1\n",
      "        if(pred_mat[i][j]!=truth_mat[i][j]):\n",
      "            m01=m01+1\n",
      "            \n",
      "jacard=1.0*m11/(m11+m01)\n",
      "rand=1.0*(m11+m00)/(m11+m01+m00)\n",
      "\n",
      "print \"jacard coef: \"+str(jacard)\n",
      "print \"rand coef: \"+str(rand)\n"
     ],
     "language": "python",
     "metadata": {},
     "outputs": [
      {
       "output_type": "stream",
       "stream": "stdout",
       "text": [
        "6\n",
        "jacard coef: 1.0\n",
        "rand coef: 1.0\n"
       ]
      }
     ],
     "prompt_number": 41
    },
    {
     "cell_type": "code",
     "collapsed": false,
     "input": [
      "\n",
      "\n",
      "\n",
      "print \"complete\""
     ],
     "language": "python",
     "metadata": {},
     "outputs": [
      {
       "output_type": "stream",
       "stream": "stdout",
       "text": [
        "complete\n"
       ]
      }
     ],
     "prompt_number": 42
    },
    {
     "cell_type": "code",
     "collapsed": false,
     "input": [],
     "language": "python",
     "metadata": {},
     "outputs": [],
     "prompt_number": 42
    },
    {
     "cell_type": "code",
     "collapsed": false,
     "input": [],
     "language": "python",
     "metadata": {},
     "outputs": [],
     "prompt_number": 42
    },
    {
     "cell_type": "code",
     "collapsed": false,
     "input": [],
     "language": "python",
     "metadata": {},
     "outputs": [],
     "prompt_number": 42
    },
    {
     "cell_type": "code",
     "collapsed": false,
     "input": [],
     "language": "python",
     "metadata": {},
     "outputs": [],
     "prompt_number": 42
    },
    {
     "cell_type": "code",
     "collapsed": false,
     "input": [],
     "language": "python",
     "metadata": {},
     "outputs": [],
     "prompt_number": 42
    },
    {
     "cell_type": "code",
     "collapsed": false,
     "input": [],
     "language": "python",
     "metadata": {},
     "outputs": [],
     "prompt_number": 42
    },
    {
     "cell_type": "code",
     "collapsed": false,
     "input": [],
     "language": "python",
     "metadata": {},
     "outputs": [],
     "prompt_number": 42
    },
    {
     "cell_type": "code",
     "collapsed": false,
     "input": [
      "# import plotly\n",
      "# plotly.tools.set_credentials_file(username='sahildur', api_key='r528ue1qa8')\n",
      "# import plotly.plotly as py\n",
      "\n",
      "# from plotly.tools import FigureFactory as FF\n",
      "\n",
      "# import numpy as np\n",
      "\n",
      "# X = np.random.rand(5, 3)\n",
      "# print X\n",
      "# dendro = FF.create_dendrogram(X)\n",
      "# dendro['layout'].update({'width':800, 'height':500})\n",
      "# py.iplot(dendro, filename='simple_dendrogram')"
     ],
     "language": "python",
     "metadata": {},
     "outputs": [],
     "prompt_number": 43
    },
    {
     "cell_type": "code",
     "collapsed": false,
     "input": [],
     "language": "python",
     "metadata": {},
     "outputs": [],
     "prompt_number": 43
    }
   ],
   "metadata": {}
  }
 ]
}